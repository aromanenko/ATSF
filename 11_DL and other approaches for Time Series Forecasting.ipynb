{
  "nbformat": 4,
  "nbformat_minor": 0,
  "metadata": {
    "kernelspec": {
      "display_name": "Python 3",
      "language": "python",
      "name": "python3"
    },
    "language_info": {
      "codemirror_mode": {
        "name": "ipython",
        "version": 3
      },
      "file_extension": ".py",
      "mimetype": "text/x-python",
      "name": "python",
      "nbconvert_exporter": "python",
      "pygments_lexer": "ipython3",
      "version": "3.8.8"
    },
    "colab": {
      "name": "9_DL and other approaches for Time Series Forecasting.ipynb",
      "provenance": []
    }
  },
  "cells": [
    {
      "cell_type": "markdown",
      "metadata": {
        "id": "QYjNN0XG1xkR"
      },
      "source": [
        "HSE, Applied Time Series Forecasitng , Winter 2023-24\n",
        "\n",
        "<font color=\"green\"> Lesson #11: DL and other approaches in Timeseries Forecasting</font>\n",
        "\n",
        "<span style=\"color:black; font-size: 12pt\"></span>\n",
        "\n",
        "Alexey Romanenko,\n",
        "<font color=\"blue\">alexromsput@gmail.com</font>"
      ]
    },
    {
      "cell_type": "markdown",
      "metadata": {
        "id": "0bEXtbW_19Tx"
      },
      "source": [
        "**Key words:**\n",
        "    - Deep Learning for Time Series Forecasting\n",
        "\n",
        "**Your feedback:**  please provide you feedback  <a href=\"https://forms.gle/bEV5iwmTqdM9rUoy8\"> here </a>"
      ]
    },
    {
      "cell_type": "code",
      "metadata": {
        "id": "U86m2u2Q1suC"
      },
      "source": [
        "import numpy as np\n",
        "import matplotlib.pyplot as plt\n",
        "import pandas as pd\n",
        "import datetime\n",
        "\n",
        "# don't forget to upload utils file to the colab session\n",
        "import warnings\n",
        "\n",
        "warnings.filterwarnings('ignore')\n",
        "\n",
        "# setting of the plotting style, registers pandas date converters for matplotlib and the default figure size\n",
        "import seaborn as sns\n",
        "sns.set_style(\"darkgrid\")\n",
        "pd.plotting.register_matplotlib_converters()\n",
        "# Default figure size\n",
        "sns.mpl.rc(\"figure\", figsize=(25, 5))\n",
        "sns.mpl.rc(\"font\", size=14)"
      ],
      "execution_count": 1,
      "outputs": []
    },
    {
      "cell_type": "markdown",
      "metadata": {
        "id": "T6cEYLv-QIk9"
      },
      "source": [
        "# DL in time series forecasting\n",
        "**Questions**\n",
        "* Does DL bring something new as time series forecasting approach?\n",
        "* What are advantages of DL approach"
      ]
    },
    {
      "cell_type": "markdown",
      "source": [
        "\n",
        "## LSTM vs ARIMA\n",
        "\n",
        "<img src = 'https://www.codeproject.com/KB/cross-platform/5165357/lstm-cell.png'>\n",
        "\n",
        "ARMA model:\n",
        "$$ y_t = \\sum_{i=1}^\\color{red}p \\alpha_i\\cdot y_{t-i}+\\sum_{j=1}^\\color{red}q \\beta_j\\cdot \\varepsilon_{t-j}+\\varepsilon_t$$\n",
        "<img src = 'https://github.com/aromanenko/ATSF/blob/main/pic/Memory%20term%20in%20TSF.PNG?raw=true' width = 500pt>\n",
        "\n",
        "**Question:**\n",
        "* What are key difference between LSTM and ARIMA?\n",
        "  - LSTM has non-linear components,\n",
        "  - LSTM has more sophisticated mixture of components"
      ],
      "metadata": {
        "id": "8WCiU5wtc4LE"
      }
    },
    {
      "cell_type": "markdown",
      "source": [
        "## Advantages of DL\n",
        "**Questions**\n",
        "* When non-linear transformation can be beneficial (can boost accuracy)?\n",
        "\n",
        "<img src = 'https://github.com/aromanenko/ATSF/blob/main/pic/DL_Advantages.PNG?raw=true' width = 500pt>\n",
        "\n",
        "<a href = \"https://cs229.stanford.edu/proj2012/BussetiOsbandWong-DeepLearningForTimeSeriesModeling.pdf\">\n",
        "\n",
        "Article with analysis of DL for Energy Forecasting</a>"
      ],
      "metadata": {
        "id": "9lrhKLFOc-YW"
      }
    },
    {
      "cell_type": "markdown",
      "source": [
        "## Example of Usage\n",
        "https://github.com/aromanenko/DLDF/blob/master/models/Partial_predictions.ipynb\n",
        "\n",
        "https://github.com/aromanenko/DLDF/blob/master/features/FeaturesExploration.ipynb"
      ],
      "metadata": {
        "id": "y4YpOtJcG-T9"
      }
    },
    {
      "cell_type": "markdown",
      "source": [
        "# Other Regression models\n",
        "\n",
        "Most of them are present in pyflux package\n",
        "https://pyflux.readthedocs.io/en/latest/index.html"
      ],
      "metadata": {
        "id": "bCVjqYPfen_2"
      }
    },
    {
      "cell_type": "code",
      "source": [],
      "metadata": {
        "id": "9qYbxL3MKSvE"
      },
      "execution_count": null,
      "outputs": []
    },
    {
      "cell_type": "markdown",
      "source": [
        "# HW1 review"
      ],
      "metadata": {
        "id": "voW_hRDIKTuU"
      }
    },
    {
      "cell_type": "markdown",
      "source": [
        "# Conclusion"
      ],
      "metadata": {
        "id": "5V--p1pWxPKB"
      }
    },
    {
      "cell_type": "markdown",
      "source": [
        "* DL can be useful in case of very sophisticated TS\n",
        "* Croston Model should be used to analyse time series with intermittend-demand-pattern\n",
        "  * Note: time series with zero actual values can be not-intermittent\n",
        "\n",
        "* Complicated Time series models should bu used rarely in real time series forecasting tasks.  "
      ],
      "metadata": {
        "id": "Y4lqNYNY8WBS"
      }
    },
    {
      "cell_type": "markdown",
      "source": [
        "## Materials\n",
        "* List of TS forecasting packages in Python https://github.com/aromanenko/ATSF/wiki/List-of-packages-for-Time-Series-Forecasting-in-Python\n",
        "* List of TS forecasitng packages in R https://github.com/aromanenko/ATSF/wiki/List-of-Packages-for-Time-Series-Forecatging-in-R\n"
      ],
      "metadata": {
        "id": "BKPdNqh89PRt"
      }
    },
    {
      "cell_type": "markdown",
      "source": [
        "# Self-check questions\n",
        "1. What is an advantage of DL models wrt classic ML models?\n",
        "2. What is the difference between EGARСH model and ARIMA Model?"
      ],
      "metadata": {
        "id": "J70ei9XCRsFa"
      }
    }
  ]
}