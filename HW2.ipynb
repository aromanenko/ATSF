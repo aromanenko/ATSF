{
  "cells": [
    {
      "cell_type": "markdown",
      "metadata": {
        "id": "B3R0gtnzxB5J"
      },
      "source": [
        "SAS & HSE, Applied Time Series Forecasitng , Winter 2022 \n",
        "\n",
        "<font color=\"blue\"> HW #2 </font>\n",
        "\n",
        "<span style=\"color:black; font-size: 12pt\"></span>\n",
        "\n",
        "Alexey Romanenko,\n",
        "<font color=\"blue\">alexromsput@gmail.com</font>"
      ]
    },
    {
      "cell_type": "markdown",
      "metadata": {
        "id": "OQfxriQaxB5P"
      },
      "source": [
        "<h1 align=\"center\">Organization Info</h1> "
      ]
    },
    {
      "cell_type": "markdown",
      "metadata": {
        "id": "tYbQEEsqxB5Q"
      },
      "source": [
        "**Дополнительный материал для выполнения дз**:\n",
        "- Магнус Я.Р., Катышев П.К., Пересецкий А.А. Эконометрика. Начальный курс., глава 11\n",
        "- Лукашин Ю.П. Адаптивные методы краткосрочного прогнозирования временных рядов. Финансы и статистика. 2003, главы 1,4,5,7.\n",
        "\n",
        "**Оформление дз**: \n",
        "- Присылайте выполненное задание в гугл-форму: https://forms.gle/G9e9L3ue3cFhNppf7\n",
        "- Выполненное дз сохраните в файл Surname_w2022_23_hw2.ipynb, например, ivanov_w2022_23_hw2.ipynb\n",
        "\n",
        "**Вопросы**:\n",
        "- Присылайте вопросы в slack в соответствующий канал\n",
        "\n",
        "**Deadline**: <font color=\"red\"> 10-Jan-2023 11:59:59 pm CET </font>\n",
        "\n",
        "В случае присланного решения позже дедлайна максимальный бал буде снижен согласно формуле\n",
        "\n",
        "$$МаксимальныйБалл=\\max\\bigl(3,max(0,(10-ДнейПослеДедлайна/7))) \\bigr).$$\n",
        "График зависимости максимально возможного балла за ДЗ от просрочки дедлайна приведён ниже: "
      ]
    },
    {
      "cell_type": "code",
      "execution_count": 3,
      "metadata": {
        "colab": {
          "base_uri": "https://localhost:8080/",
          "height": 173
        },
        "id": "RdyIRqm2xdWe",
        "outputId": "fbebb9dc-549b-4bc8-c956-817d3ac1ac2a"
      },
      "outputs": [
        {
          "output_type": "display_data",
          "data": {
            "text/plain": [
              "<Figure size 1800x216 with 1 Axes>"
            ],
            "image/png": "[encoded data removed]"
          },
          "metadata": {
            "needs_background": "light"
          }
        }
      ],
      "source": [
        "import pandas as pd\n",
        "import numpy as np\n",
        "a = 2\n",
        "ax = pd.DataFrame(data = [[x, min(10, 10*max(0.3, (1-x/49)))] for x in np.linspace(-0.5,50,200)], columns = ['Количество дней после дедлайна', 'Максимальный балл']).set_index('Количество дней после дедлайна').plot(figsize = (25,3), grid = True)"
      ]
    },
    {
      "cell_type": "markdown",
      "metadata": {
        "id": "S_LIggIfxB5R"
      },
      "source": [
        "<h1 align=\"center\">Check Questions (5%)</h1> "
      ]
    },
    {
      "cell_type": "markdown",
      "metadata": {
        "id": "Y_Q-eHARxB5S"
      },
      "source": [
        "\n",
        "**Questions 1: Write down an equation for $y_t$ (in a form $y_t=f\\left(y_{t-1}, \\ldots,y_{t-n}, \\varepsilon_t, \\ldots, \\varepsilon_{t-m}\\right)$)  that corresponds to the following ARIMA models**:\n",
        " - 1) ARIMA $(p=0,d=k,q=1)$,\n",
        "    - <Answer>\n",
        "    <br></br>\n",
        " - 2) ARIMA $(p=0,d=k+1,d=1)(P=1, D=1, Q=0)_s$,   \n",
        "     - <Answer>\n",
        "    <br></br>\n"
      ]
    },
    {
      "cell_type": "markdown",
      "metadata": {
        "id": "GzePs1NnxB5Y"
      },
      "source": [
        "<h1 align=\"center\"> Practice</h1>\n",
        "\n",
        "<h2 align=\"center\">  1. Download data for following data sets (15%)</h2>\n",
        "\n",
        "\n",
        "* 0) Download data\n",
        "  <span style=\"color:blue; font-family:'New Times Roman'; font-size:14pt\"> \n",
        "  \n",
        "  description of the target ts you can find here  https://docs.google.com/spreadsheets/d/1HwwDZMCVUl-wpdY39TdBBKMwvks9VTe2gIpFtGBu-28/edit#gid=1251818784 </span> sheet \"TS\" in column O\n",
        "\n",
        "* 1) plot target ts \n",
        "* 2) plot cros-series plot: independent variables and target variable on the same subplot \n",
        "* 3) answer the questions: \n",
        "    - is there seasonality? If there is seasonality then define period(s) of seasonality.\n",
        "    - trend?\n",
        "    - not-stable dispersion? \n",
        "* 4) define the proper list of transformations in order to make thet ts stationary (find optimal lambda in Box-Cox tranformation, if needed). "
      ]
    },
    {
      "cell_type": "code",
      "execution_count": null,
      "metadata": {
        "collapsed": true,
        "id": "ZJUYiYDnxB5Y"
      },
      "outputs": [],
      "source": [
        "# Put your code here"
      ]
    },
    {
      "cell_type": "markdown",
      "metadata": {
        "id": "pkG2nvpgxB5a"
      },
      "source": [
        "<h2 align=\"center\">2. Fit ARIMA Model (50%) </h2>"
      ]
    },
    {
      "cell_type": "markdown",
      "metadata": {
        "id": "jQVFAHiCxB5a"
      },
      "source": [
        "**I. Build ARIMA forecast manually ** \n",
        "\n",
        "You should follow the next scheme:\n",
        "\n",
        " * 0) split the ts to two parts: first 80% of timestamps (ts1) and the last 20% of timestamps (ts2)   \n",
        " * 1) apply transformation to make the ts1 stationary;\n",
        " * 2) define exogenous variables and apply the transformations to them, if needed\n",
        " * 3) train simple ARIMA (0, 0, 0) with exogenous variables only, endog = 1) exog = 2);\n",
        " * 4) plot ACF/PACF for resifuals of the simple ARIMA(0, 0, 0) in order to understand which $p, P, q, Q$ can be used; define set of candidate parameters for ARMA (for the train TS);\n",
        " * 5) select the best parameters of the ARIMA models iteratively: \n",
        "    * While there are significant ACF/PACF lags and ARIMA can be trained\n",
        "      - change only one of 6 ARIMA parameters (p, d, q, P, D, Q) \n",
        "      - compare the new model with the previous best model based on  AIC|BIC|HQIC\n",
        "      - plot ACF/PACF of the best model\n",
        "\n",
        "  **Note**: there is no goal to minimize AIC|BIC|HQIC, the goal is to exclude all significant autocorrelations from ACF/PACF.\n",
        "\n",
        "* 6) Check  the best model residuals for \n",
        "    - unbiasedness, \n",
        "    - stationarity\n",
        "    - non-autocorrelation\n",
        "    - white noise hypothesis\n",
        "\n",
        "    If all tests fail you need to review your choice.\n",
        "* 7) Run analysis of the regression coafficients\n",
        "    \n",
        "    - if there are some insignificant regressors that can be eliminated, please exclude them from the model.\n",
        "\n",
        "* 8) build forecast for the ts2 (you need to transform exogenous variables if you applied Box-Cox tranformations in step 1); plot this forecast on the same plot with original ts2 data\n",
        "* 9) Calculate loss MAPE of your forecast. Does the forecast look appropriate?"
      ]
    },
    {
      "cell_type": "code",
      "execution_count": null,
      "metadata": {
        "collapsed": true,
        "id": "w7HUhrqBxB5b"
      },
      "outputs": [],
      "source": [
        "# Put your code here"
      ]
    },
    {
      "cell_type": "markdown",
      "metadata": {
        "id": "Hlz5oZguxB5c"
      },
      "source": [
        "<h2 align=\"center\">2. Find the best ARIMA Model automatically (30%) </h2>\n",
        "\n",
        "* 0) define candidates for $p, d, q, P, D, Q$ values  \n",
        "* 1) Run grid search for ARIMA parameters (use ts1 from the previous section) according to AIC|BIC|HQIC, feel free to use your own approach how to define the best model based on AIC|BIC|HQIC. How many time does it take to fit all ARIMA?\n",
        "* 2) Run Residuals and Coefficint analysis for the best model\n",
        "  - If all tests fail you need to rebuild automatically selected model (you can do it manually).\n",
        "  - if there are some insignificant regressors that can be eliminated, please exclude them from the model.\n",
        "* 3) build forecast for the ts2 (you need to transform exogenous variables if you applied Box-Cox tranformations in step 1); plot this forecast on the same plot with original ts2 data\n",
        "* 4) Calculate loss MAPE of your forecast. Which model manually generated or automatically generated is better?"
      ]
    },
    {
      "cell_type": "code",
      "execution_count": null,
      "metadata": {
        "collapsed": true,
        "id": "hrAyb470xB5c"
      },
      "outputs": [],
      "source": [
        "# Put your code here"
      ]
    },
    {
      "cell_type": "markdown",
      "metadata": {
        "id": "l_kWoDRy37wU"
      },
      "source": [
        "<h1 align=\"center\"> Theoretical Bonus Part (Extra 50%)</h1>\n",
        "\n",
        "<br></br>\n",
        "\n",
        "\n",
        "\n",
        "\n",
        "\n",
        "**1. Let's consider simple AR model:** \n",
        "$$AR(p)\\colon \\;\\;\\; y_t = \\phi_1 y_{t-1} + \\phi_2 y_{t-2} + \\dots + \\phi_p y_{t-p} + \\varepsilon_t,$$  \n",
        "\n",
        "where \n",
        "  - $y_t$ is a stationary time series with zero average,\n",
        "  - $\\phi_1,\\dots,\\phi_p$ are constants ($\\phi_q \\neq 0$), $~~$\n",
        "  - $\\varepsilon_t$ is gaussian white noise with zero average and constant dispersion $\\sigma_\\varepsilon^2.$\n",
        "<br></br>\n",
        "Proof that partial autocorrelation coefficients depend on $p$ and $\\tau$ only:\n",
        "   $$rr_{\\tau} = {\\bf{E}}[y_t-\\hat y_t, y_{t+\\tau} - \\hat y_{t+\\tau}]= \\begin{cases}0 &, \\tau>p; \\\\ f(\\tau, p)>0 &, 1\\leq\\tau\\leq p. \\end{cases}$$\n",
        "\t\n",
        "  where $\\hat y_t$ - forecast of $y_t$ with following regression model $$y_t = \\sum_{j=1}^{\\tau-1}\\beta_j y_{t+j}$$\n",
        "  $\\hat y_{t+\\tau}$ - forecast of $y_{t+\\tau}$ with following regression model $$y_{t+\\tau} = \\sum_{j=1}^{\\tau-1}\\gamma_j y_{t+j}.$$\n",
        "\n",
        "<br></br>\n",
        "<Answer>\n",
        "\n",
        "\n",
        "\n",
        "**2. Let's consider simple MA model:**\n",
        "  $$MA(q)\\colon \\;\\;\\; y_t = \\varepsilon_t + \\theta_1\\varepsilon_{t-1} + \\theta_2\\varepsilon_{t-2} + \\dots + \\theta_q \\varepsilon_{t-q},$$\n",
        "  where \n",
        "  - $y_t$ is a stationary time series with zero average,$~~$\n",
        "  - $\\theta_1,\\dots,\\theta_q$ are constants ($\\theta_q \\neq 0$),$~~$ \n",
        "  - $\\varepsilon_t$ is gaussian white noise with zero average and constant dispersion $\\sigma_\\varepsilon^2.$\n",
        "\n",
        "\n",
        "Proof that the correlation coefficients depend on $\\tau$ and $q$\n",
        "$$r_\\tau=\\begin{cases}0 &, \\tau>q; \\\\ f(\\tau,q)>0 &, \\tau\\leq q. \\end{cases}$$\n",
        "\n",
        "<br></br>\n",
        "<Answer>\n",
        "\n",
        "**3. How to select candiates for $p$ and $q$ parameters for simple ARMA model based on ACF and PACF.**"
      ]
    },
    {
      "cell_type": "code",
      "execution_count": null,
      "metadata": {
        "id": "_JXf_5Is38qD"
      },
      "outputs": [],
      "source": []
    },
    {
      "cell_type": "markdown",
      "source": [
        "<h1 align=\"center\"> Practical Bonus Part (Extra 50%)</h1>\n",
        "\n",
        "Realize method for searching optimal $\\lambda$ for boxcox transformation.\n",
        "Approach for finding the optimal $\\lambda$ is descibed <a href=\"https://www.academia.edu/23049010/Time_series_analysis_supported_by_power_transformations\">here</a>.  \n",
        "\n",
        "You need to replace all 'TODO' below by some code:"
      ],
      "metadata": {
        "id": "GA72P_JZbW1S"
      }
    },
    {
      "cell_type": "code",
      "source": [
        "import numpy as np\n",
        "class boxcox():\n",
        "    def __init__(self, lmbda=None, shift=0):\n",
        "        '''\n",
        "    Box Cox Transforms\n",
        "    Transforms data are to be normal. Also known as power transform.\n",
        "    \n",
        "    Parameters\n",
        "        ----------\n",
        "    lmbda: float or None\n",
        "        lmbda the power parameter. The None input automatically calculates\n",
        "        lmbda based on method guerrero\n",
        "    shift: float\n",
        "        Use to normalize data by shifting data to all positive values\n",
        "        \n",
        "        '''\n",
        "        self.lmbda = lmbda\n",
        "        self.shift = shift\n",
        "        self.y = []\n",
        "        self.method = 'guerrero'\n",
        "        \n",
        "    def transform(self, x, n=2):\n",
        "        '''\n",
        "            x: time series\n",
        "            n: number of subseries with constant dispersion\n",
        "        '''\n",
        "        x = 1.0*np.asarray(x)\n",
        "        \n",
        "        if self.shift>0:\n",
        "            x=  'TODO: shift time series up'\n",
        "            \n",
        "        if self.lmbda is None:\n",
        "            self.lmbda = 'TODO: shift time series up'\n",
        "            \n",
        "        \n",
        "            \n",
        "        if self.lmbda == 0:\n",
        "            self.y = 'TODO: '\n",
        "        else:\n",
        "            self.y = 'TODO: '\n",
        "        return self.y, self.lmbda\n",
        "        \n",
        "    def optimal_lambda(self,x, n=2):\n",
        "        \"\"\"\n",
        "        Parameters\n",
        "        ----------\n",
        "        x - time series with different variance through the time\n",
        "        n - number of subseries in x, each subseries x_i has constant variance sigma_i and constant mean m_i\n",
        "        The method states, that optimal lambda should be chosen in such a way that\n",
        "         \n",
        "         sigma_i/(m_i)**(1-lambda) = constant, for all i=1,...,n\n",
        "        \n",
        "        you need to find solution for the follow Regression problem:\n",
        "        \n",
        "        log(sigma_i) = w_1 + w_2*log(m_i), where\n",
        "        w_2 = 1-lambda\n",
        "        \n",
        "        \"\"\"\n",
        "        x = 1.0*np.asarray(x)\n",
        "               \n",
        "        sigma = 'TODO: initialize array for log(sigma_i)'\n",
        "        m = 'TODO: initialize array for matrix of regression [1, log(m_i)]'\n",
        "\n",
        "        r = len(x)/n  # the length of each subseries\n",
        "\n",
        "        for i in range(n):\n",
        "            m[1][i] = 'TODO: fill matrix of regression'\n",
        "            sigma[i] = 'TODO: fill array of sigma'\n",
        "\n",
        "        # find the solution for regression Xw=y, where X = m, w[1] = 1-lambda, \n",
        "        w = np.dot(np.linalg.inv(np.dot(X,X.T)),np.dot(X,y))[1]\n",
        "        \n",
        "        self.lmbda = 'TODO: set value of lambda'\n",
        "        \n",
        "        print self.lmbda\n",
        "        \n",
        "        return self.lmbda\n",
        "\n",
        "    def inverse(self, y=None):\n",
        "        \"\"\"\n",
        "        Parameters\n",
        "        ----------\n",
        "        y: time series\n",
        "\n",
        "        Returns\n",
        "        -------\n",
        "        x: inverse transformed ts\n",
        "    \n",
        "        \"\"\"\n",
        "        if y is None:\n",
        "            y = self.y\n",
        "        \n",
        "        if self.lmbda == 0:\n",
        "            x = 'TODO' \n",
        "        else:\n",
        "            x = 'TODO'\n",
        "        return x"
      ],
      "metadata": {
        "id": "PrG-CRQpbxj7"
      },
      "execution_count": null,
      "outputs": []
    },
    {
      "cell_type": "code",
      "source": [
        "# Check on Wage data\n",
        "# boxcox transformation for wage dataset \n",
        "ts_wage = pd.read_csv('https://raw.githubusercontent.com/aromanenko/ATSF/33b78c9be63831567f8036ad40c5859e824d30f7/data/monthly-wage.csv', sep=';', decimal='.', parse_dates=True, index_col='Month')"
      ],
      "metadata": {
        "id": "_dcnOrVJcYWP"
      },
      "execution_count": null,
      "outputs": []
    },
    {
      "cell_type": "code",
      "source": [
        "# cut first steps\n",
        "ts_wage = ts_wage.ix['01.01.1999':'01.01.2017']\n",
        "ts_wage.plot(figsize=(25,5))"
      ],
      "metadata": {
        "id": "UfaSGwiNcase"
      },
      "execution_count": null,
      "outputs": []
    },
    {
      "cell_type": "code",
      "source": [
        "bc = boxcox()\n",
        "ts_wage['wage_boxcox'], lmbda = bc.transform(ts_wage['Real wage'],n=18)\n",
        "print ('lambda=', lmbda)\n",
        "ts_wage['wage_boxcox'].plot(figsize=(15,5))"
      ],
      "metadata": {
        "id": "Qt4vXwyJcf6D"
      },
      "execution_count": null,
      "outputs": []
    }
  ],
  "metadata": {
    "anaconda-cloud": {},
    "colab": {
      "name": "HW2.ipynb",
      "provenance": []
    },
    "kernelspec": {
      "display_name": "Python 3",
      "language": "python",
      "name": "python3"
    },
    "language_info": {
      "codemirror_mode": {
        "name": "ipython",
        "version": 3
      },
      "file_extension": ".py",
      "mimetype": "text/x-python",
      "name": "python",
      "nbconvert_exporter": "python",
      "pygments_lexer": "ipython3",
      "version": "3.8.8"
    }
  },
  "nbformat": 4,
  "nbformat_minor": 0
}