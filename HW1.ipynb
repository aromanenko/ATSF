{
  "nbformat": 4,
  "nbformat_minor": 0,
  "metadata": {
    "anaconda-cloud": {},
    "kernelspec": {
      "display_name": "Python 3",
      "language": "python",
      "name": "python3"
    },
    "language_info": {
      "codemirror_mode": {
        "name": "ipython",
        "version": 3
      },
      "file_extension": ".py",
      "mimetype": "text/x-python",
      "name": "python",
      "nbconvert_exporter": "python",
      "pygments_lexer": "ipython3",
      "version": "3.8.8"
    },
    "colab": {
      "name": "HW1.ipynb",
      "provenance": []
    }
  },
  "cells": [
    {
      "cell_type": "markdown",
      "metadata": {
        "id": "-bIIDV4mLpFB"
      },
      "source": [
        "SAS & HSE, Applied Time Series Forecasitng , Fall 2023\n",
        "\n",
        "<font color=\"green\"> HW #1 </font>\n",
        "\n",
        "<span style=\"color:black; font-size: 12pt\"></span>\n",
        "\n",
        "Alexey Romanenko,\n",
        "<font color=\"blue\">alexromsput@gmail.com</font>"
      ]
    },
    {
      "cell_type": "markdown",
      "metadata": {
        "id": "-_CmZRMPLpFI"
      },
      "source": [
        "<h1 align=\"center\">Organization Info</h1>"
      ]
    },
    {
      "cell_type": "markdown",
      "metadata": {
        "id": "YyRPO5nFLpFI"
      },
      "source": [
        "**Дополнительный материал для выполнения дз**:\n",
        "- Лукашин Ю.П. Адаптивные методы краткосрочного прогнозирования временных рядов. Финансы и статистика. 2003, главы 1,4,5,7.\n",
        "- https://otexts.com/fpp2/expsmooth.html\n",
        "\n",
        "**Оформление дз**:\n",
        "- Присылайте выполненное задание в гугл-форму https://forms.gle/G9e9L3ue3cFhNppf7\n",
        "- Выполненное дз сохраните в файл <Surname>_fall2022_hw1.ipynb, например, ivanov_fall2022_hw1.ipynb\n",
        "\n",
        "**Вопросы**:\n",
        "- Присылайте вопросы в slack в соответствующий канал\n",
        "\n",
        "**Deadilne**: <font color=\"red\"> 03-Dec-2023 11:59:59 pm CET </font>\n",
        "\n",
        "В случае присланного решения позже дедлайна максимальный бал буде снижен согласно формуле (-1 балл за просрочку дедлайна в одну неделю):\n",
        "\n",
        "$$МаксимальныйБалл=max\\bigl(6,(10-ДнейПослеДедлайна/7) \\bigr).$$\n",
        "График зависимости максимально возможного балла за ДЗ от просрочки дедлайна приведён ниже:"
      ]
    },
    {
      "cell_type": "code",
      "source": [
        "# pd.date_range('2023-12-03', periods=90, freq='D')[0]"
      ],
      "metadata": {
        "id": "Lk-pWcAhPhQ1"
      },
      "execution_count": 12,
      "outputs": []
    },
    {
      "cell_type": "code",
      "metadata": {
        "colab": {
          "base_uri": "https://localhost:8080/",
          "height": 367
        },
        "id": "YtrUc62_OJpj",
        "outputId": "d2e55eaf-c91d-45d8-9a64-bc47f851c7ce"
      },
      "source": [
        "import pandas as pd\n",
        "import numpy as np\n",
        "pd.options.plotting.backend = \"plotly\"\n",
        "\n",
        "a = 2\n",
        "ax = pd.DataFrame(data = [['2023-12-03'x, min(10, max(6, (10-x/7)))] for x in np.linspace(-0.5,29,200)], columns = ['Количество дней после дедлайна', 'Максимальный балл']).set_index('Количество дней после дедлайна').\\\n",
        "  plot().update_layout(height=350, width=1350).show()"
      ],
      "execution_count": 8,
      "outputs": [
        {
          "output_type": "display_data",
          "data": {
            "text/html": [
              "<html>\n",
              "<head><meta charset=\"utf-8\" /></head>\n",
              "<body>\n",
              "    <div>            <script src=\"https://cdnjs.cloudflare.com/ajax/libs/mathjax/2.7.5/MathJax.js?config=TeX-AMS-MML_SVG\"></script><script type=\"text/javascript\">if (window.MathJax && window.MathJax.Hub && window.MathJax.Hub.Config) {window.MathJax.Hub.Config({SVG: {font: \"STIX-Web\"}});}</script>                <script type=\"text/javascript\">window.PlotlyConfig = {MathJaxConfig: 'local'};</script>\n",
              "        <script charset=\"utf-8\" src=\"https://cdn.plot.ly/plotly-2.24.1.min.js\"></script>                <div id=\"0cdfff13-ac86-4e38-ac72-713552c62ff5\" class=\"plotly-graph-div\" style=\"height:350px; width:1350px;\"></div>            <script type=\"text/javascript\">                                    window.PLOTLYENV=window.PLOTLYENV || {};                                    if (document.getElementById(\"0cdfff13-ac86-4e38-ac72-713552c62ff5\")) {                    Plotly.newPlot(                        \"0cdfff13-ac86-4e38-ac72-713552c62ff5\",                        [{\"hovertemplate\":\"variable=\\u041c\\u0430\\u043a\\u0441\\u0438\\u043c\\u0430\\u043b\\u044c\\u043d\\u044b\\u0439 \\u0431\\u0430\\u043b\\u043b\\u003cbr\\u003e\\u041a\\u043e\\u043b\\u0438\\u0447\\u0435\\u0441\\u0442\\u0432\\u043e \\u0434\\u043d\\u0435\\u0439 \\u043f\\u043e\\u0441\\u043b\\u0435 \\u0434\\u0435\\u0434\\u043b\\u0430\\u0439\\u043d\\u0430=%{x}\\u003cbr\\u003evalue=%{y}\\u003cextra\\u003e\\u003c\\u002fextra\\u003e\",\"legendgroup\":\"\\u041c\\u0430\\u043a\\u0441\\u0438\\u043c\\u0430\\u043b\\u044c\\u043d\\u044b\\u0439 \\u0431\\u0430\\u043b\\u043b\",\"line\":{\"color\":\"#636efa\",\"dash\":\"solid\"},\"marker\":{\"symbol\":\"circle\"},\"mode\":\"lines\",\"name\":\"\\u041c\\u0430\\u043a\\u0441\\u0438\\u043c\\u0430\\u043b\\u044c\\u043d\\u044b\\u0439 \\u0431\\u0430\\u043b\\u043b\",\"orientation\":\"v\",\"showlegend\":true,\"x\":[-0.5,-0.3517587939698492,-0.20351758793969849,-0.055276381909547756,0.09296482412060303,0.24120603015075381,0.3894472361809045,0.5376884422110553,0.6859296482412061,0.8341708542713568,0.9824120603015076,1.1306532663316584,1.278894472361809,1.4271356783919598,1.5753768844221105,1.7236180904522613,1.8718592964824121,2.020100502512563,2.1683417085427137,2.3165829145728645,2.4648241206030153,2.613065326633166,2.761306532663317,2.9095477386934676,3.057788944723618,3.2060301507537687,3.3542713567839195,3.5025125628140703,3.650753768844221,3.798994974874372,3.9472361809045227,4.0954773869346734,4.243718592964824,4.391959798994975,4.540201005025126,4.688442211055277,4.836683417085427,4.984924623115578,5.133165829145729,5.28140703517588,5.4296482412060305,5.577889447236181,5.726130653266332,5.874371859296483,6.022613065326634,6.170854271356784,6.319095477386935,6.467336683417086,6.615577889447236,6.763819095477387,6.9120603015075375,7.060301507537688,7.208542713567839,7.35678391959799,7.505025125628141,7.653266331658292,7.801507537688442,7.949748743718594,8.097989949748744,8.246231155778895,8.394472361809045,8.542713567839197,8.690954773869347,8.839195979899499,8.987437185929648,9.135678391959798,9.28391959798995,9.4321608040201,9.580402010050252,9.728643216080402,9.876884422110553,10.025125628140703,10.173366834170855,10.321608040201005,10.469849246231156,10.618090452261306,10.766331658291458,10.914572864321608,11.06281407035176,11.21105527638191,11.359296482412061,11.507537688442211,11.655778894472363,11.804020100502512,11.952261306532664,12.100502512562814,12.248743718592966,12.396984924623116,12.545226130653267,12.693467336683417,12.841708542713569,12.989949748743719,13.13819095477387,13.28643216080402,13.434673366834172,13.582914572864322,13.731155778894472,13.879396984924623,14.027638190954773,14.175879396984925,14.324120603015075,14.472361809045227,14.620603015075377,14.768844221105528,14.917085427135678,15.06532663316583,15.21356783919598,15.361809045226131,15.510050251256281,15.658291457286431,15.806532663316585,15.954773869346734,16.103015075376884,16.251256281407034,16.399497487437188,16.547738693467338,16.695979899497488,16.844221105527637,16.99246231155779,17.14070351758794,17.28894472361809,17.43718592964824,17.585427135678394,17.733668341708544,17.881909547738694,18.030150753768844,18.178391959798997,18.326633165829147,18.474874371859297,18.623115577889447,18.771356783919597,18.91959798994975,19.0678391959799,19.21608040201005,19.3643216080402,19.512562814070353,19.660804020100503,19.809045226130653,19.957286432160803,20.105527638190956,20.253768844221106,20.402010050251256,20.550251256281406,20.69849246231156,20.84673366834171,20.99497487437186,21.14321608040201,21.291457286432163,21.439698492462313,21.587939698492463,21.736180904522612,21.884422110552766,22.032663316582916,22.180904522613066,22.329145728643216,22.47738693467337,22.62562814070352,22.77386934673367,22.92211055276382,23.070351758793972,23.218592964824122,23.366834170854272,23.515075376884422,23.66331658291457,23.811557788944725,23.959798994974875,24.108040201005025,24.256281407035175,24.40452261306533,24.55276381909548,24.701005025125628,24.849246231155778,24.99748743718593,25.14572864321608,25.29396984924623,25.44221105527638,25.590452261306535,25.738693467336685,25.886934673366834,26.035175879396984,26.183417085427138,26.331658291457288,26.479899497487438,26.628140703517587,26.77638190954774,26.92462311557789,27.07286432160804,27.22110552763819,27.369346733668344,27.517587939698494,27.665829145728644,27.814070351758794,27.962311557788944,28.110552763819097,28.258793969849247,28.407035175879397,28.555276381909547,28.7035175879397,28.85175879396985,29.0],\"xaxis\":\"x\",\"y\":[10.0,10.0,10.0,10.0,9.986719310839915,9.96554199569275,9.944364680545585,9.923187365398421,9.902010050251256,9.880832735104091,9.859655419956928,9.838478104809763,9.817300789662598,9.796123474515435,9.77494615936827,9.753768844221106,9.732591529073941,9.711414213926776,9.690236898779613,9.669059583632448,9.647882268485283,9.62670495333812,9.605527638190955,9.58435032304379,9.563173007896626,9.541995692749461,9.520818377602296,9.499641062455133,9.478463747307968,9.457286432160805,9.43610911701364,9.414931801866475,9.393754486719311,9.372577171572146,9.351399856424981,9.330222541277818,9.309045226130653,9.287867910983488,9.266690595836325,9.24551328068916,9.224335965541997,9.203158650394831,9.181981335247666,9.160804020100503,9.139626704953338,9.118449389806173,9.09727207465901,9.076094759511845,9.05491744436468,9.033740129217517,9.012562814070352,8.991385498923187,8.970208183776023,8.949030868628858,8.927853553481695,8.90667623833453,8.885498923187365,8.864321608040202,8.843144292893037,8.821966977745872,8.800789662598708,8.779612347451543,8.758435032304378,8.737257717157215,8.71608040201005,8.694903086862887,8.673725771715722,8.652548456568557,8.631371141421393,8.610193826274228,8.589016511127063,8.5678391959799,8.546661880832735,8.52548456568557,8.504307250538407,8.483129935391242,8.461952620244077,8.440775305096913,8.419597989949748,8.398420674802585,8.37724335965542,8.356066044508255,8.334888729361092,8.313711414213927,8.292534099066762,8.271356783919598,8.250179468772433,8.229002153625268,8.207824838478105,8.18664752333094,8.165470208183775,8.144292893036612,8.123115577889447,8.101938262742284,8.080760947595119,8.059583632447954,8.03840631730079,8.017229002153625,7.996051687006461,7.974874371859297,7.953697056712132,7.932519741564968,7.911342426417804,7.890165111270639,7.868987796123474,7.84781048097631,7.826633165829145,7.805455850681981,7.784278535534817,7.763101220387653,7.741923905240488,7.720746590093324,7.6995692749461595,7.678391959798995,7.65721464465183,7.636037329504666,7.614860014357502,7.593682699210337,7.572505384063173,7.551328068916009,7.530150753768844,7.50897343862168,7.487796123474515,7.46661880832735,7.445441493180187,7.424264178033022,7.403086862885857,7.381909547738694,7.360732232591529,7.339554917444365,7.3183776022972005,7.297200287150035,7.276022972002871,7.254845656855707,7.233668341708543,7.212491026561378,7.191313711414214,7.17013639626705,7.1489590811198855,7.1277817659727205,7.106604450825556,7.085427135678392,7.064249820531227,7.043072505384063,7.021895190236899,7.000717875089734,6.979540559942571,6.958363244795406,6.9371859296482405,6.916008614501077,6.894831299353912,6.873653984206747,6.852476669059584,6.831299353912419,6.810122038765255,6.788944723618091,6.767767408470926,6.7465900933237615,6.725412778176597,6.704235463029432,6.683058147882268,6.661880832735104,6.64070351758794,6.619526202440776,6.598348887293611,6.5771715721464465,6.555994256999282,6.534816941852117,6.513639626704953,6.492462311557789,6.471284996410624,6.450107681263461,6.428930366116296,6.407753050969131,6.3865757358219675,6.365398420674802,6.344221105527637,6.323043790380474,6.301866475233309,6.280689160086145,6.259511844938981,6.238334529791816,6.217157214644652,6.1959798994974875,6.1748025843503225,6.153625269203158,6.132447954055994,6.11127063890883,6.090093323761665,6.068916008614501,6.047738693467337,6.026561378320173,6.0053840631730075,6.0,6.0,6.0,6.0,6.0,6.0,6.0],\"yaxis\":\"y\",\"type\":\"scatter\"}],                        {\"template\":{\"data\":{\"histogram2dcontour\":[{\"type\":\"histogram2dcontour\",\"colorbar\":{\"outlinewidth\":0,\"ticks\":\"\"},\"colorscale\":[[0.0,\"#0d0887\"],[0.1111111111111111,\"#46039f\"],[0.2222222222222222,\"#7201a8\"],[0.3333333333333333,\"#9c179e\"],[0.4444444444444444,\"#bd3786\"],[0.5555555555555556,\"#d8576b\"],[0.6666666666666666,\"#ed7953\"],[0.7777777777777778,\"#fb9f3a\"],[0.8888888888888888,\"#fdca26\"],[1.0,\"#f0f921\"]]}],\"choropleth\":[{\"type\":\"choropleth\",\"colorbar\":{\"outlinewidth\":0,\"ticks\":\"\"}}],\"histogram2d\":[{\"type\":\"histogram2d\",\"colorbar\":{\"outlinewidth\":0,\"ticks\":\"\"},\"colorscale\":[[0.0,\"#0d0887\"],[0.1111111111111111,\"#46039f\"],[0.2222222222222222,\"#7201a8\"],[0.3333333333333333,\"#9c179e\"],[0.4444444444444444,\"#bd3786\"],[0.5555555555555556,\"#d8576b\"],[0.6666666666666666,\"#ed7953\"],[0.7777777777777778,\"#fb9f3a\"],[0.8888888888888888,\"#fdca26\"],[1.0,\"#f0f921\"]]}],\"heatmap\":[{\"type\":\"heatmap\",\"colorbar\":{\"outlinewidth\":0,\"ticks\":\"\"},\"colorscale\":[[0.0,\"#0d0887\"],[0.1111111111111111,\"#46039f\"],[0.2222222222222222,\"#7201a8\"],[0.3333333333333333,\"#9c179e\"],[0.4444444444444444,\"#bd3786\"],[0.5555555555555556,\"#d8576b\"],[0.6666666666666666,\"#ed7953\"],[0.7777777777777778,\"#fb9f3a\"],[0.8888888888888888,\"#fdca26\"],[1.0,\"#f0f921\"]]}],\"heatmapgl\":[{\"type\":\"heatmapgl\",\"colorbar\":{\"outlinewidth\":0,\"ticks\":\"\"},\"colorscale\":[[0.0,\"#0d0887\"],[0.1111111111111111,\"#46039f\"],[0.2222222222222222,\"#7201a8\"],[0.3333333333333333,\"#9c179e\"],[0.4444444444444444,\"#bd3786\"],[0.5555555555555556,\"#d8576b\"],[0.6666666666666666,\"#ed7953\"],[0.7777777777777778,\"#fb9f3a\"],[0.8888888888888888,\"#fdca26\"],[1.0,\"#f0f921\"]]}],\"contourcarpet\":[{\"type\":\"contourcarpet\",\"colorbar\":{\"outlinewidth\":0,\"ticks\":\"\"}}],\"contour\":[{\"type\":\"contour\",\"colorbar\":{\"outlinewidth\":0,\"ticks\":\"\"},\"colorscale\":[[0.0,\"#0d0887\"],[0.1111111111111111,\"#46039f\"],[0.2222222222222222,\"#7201a8\"],[0.3333333333333333,\"#9c179e\"],[0.4444444444444444,\"#bd3786\"],[0.5555555555555556,\"#d8576b\"],[0.6666666666666666,\"#ed7953\"],[0.7777777777777778,\"#fb9f3a\"],[0.8888888888888888,\"#fdca26\"],[1.0,\"#f0f921\"]]}],\"surface\":[{\"type\":\"surface\",\"colorbar\":{\"outlinewidth\":0,\"ticks\":\"\"},\"colorscale\":[[0.0,\"#0d0887\"],[0.1111111111111111,\"#46039f\"],[0.2222222222222222,\"#7201a8\"],[0.3333333333333333,\"#9c179e\"],[0.4444444444444444,\"#bd3786\"],[0.5555555555555556,\"#d8576b\"],[0.6666666666666666,\"#ed7953\"],[0.7777777777777778,\"#fb9f3a\"],[0.8888888888888888,\"#fdca26\"],[1.0,\"#f0f921\"]]}],\"mesh3d\":[{\"type\":\"mesh3d\",\"colorbar\":{\"outlinewidth\":0,\"ticks\":\"\"}}],\"scatter\":[{\"fillpattern\":{\"fillmode\":\"overlay\",\"size\":10,\"solidity\":0.2},\"type\":\"scatter\"}],\"parcoords\":[{\"type\":\"parcoords\",\"line\":{\"colorbar\":{\"outlinewidth\":0,\"ticks\":\"\"}}}],\"scatterpolargl\":[{\"type\":\"scatterpolargl\",\"marker\":{\"colorbar\":{\"outlinewidth\":0,\"ticks\":\"\"}}}],\"bar\":[{\"error_x\":{\"color\":\"#2a3f5f\"},\"error_y\":{\"color\":\"#2a3f5f\"},\"marker\":{\"line\":{\"color\":\"#E5ECF6\",\"width\":0.5},\"pattern\":{\"fillmode\":\"overlay\",\"size\":10,\"solidity\":0.2}},\"type\":\"bar\"}],\"scattergeo\":[{\"type\":\"scattergeo\",\"marker\":{\"colorbar\":{\"outlinewidth\":0,\"ticks\":\"\"}}}],\"scatterpolar\":[{\"type\":\"scatterpolar\",\"marker\":{\"colorbar\":{\"outlinewidth\":0,\"ticks\":\"\"}}}],\"histogram\":[{\"marker\":{\"pattern\":{\"fillmode\":\"overlay\",\"size\":10,\"solidity\":0.2}},\"type\":\"histogram\"}],\"scattergl\":[{\"type\":\"scattergl\",\"marker\":{\"colorbar\":{\"outlinewidth\":0,\"ticks\":\"\"}}}],\"scatter3d\":[{\"type\":\"scatter3d\",\"line\":{\"colorbar\":{\"outlinewidth\":0,\"ticks\":\"\"}},\"marker\":{\"colorbar\":{\"outlinewidth\":0,\"ticks\":\"\"}}}],\"scattermapbox\":[{\"type\":\"scattermapbox\",\"marker\":{\"colorbar\":{\"outlinewidth\":0,\"ticks\":\"\"}}}],\"scatterternary\":[{\"type\":\"scatterternary\",\"marker\":{\"colorbar\":{\"outlinewidth\":0,\"ticks\":\"\"}}}],\"scattercarpet\":[{\"type\":\"scattercarpet\",\"marker\":{\"colorbar\":{\"outlinewidth\":0,\"ticks\":\"\"}}}],\"carpet\":[{\"aaxis\":{\"endlinecolor\":\"#2a3f5f\",\"gridcolor\":\"white\",\"linecolor\":\"white\",\"minorgridcolor\":\"white\",\"startlinecolor\":\"#2a3f5f\"},\"baxis\":{\"endlinecolor\":\"#2a3f5f\",\"gridcolor\":\"white\",\"linecolor\":\"white\",\"minorgridcolor\":\"white\",\"startlinecolor\":\"#2a3f5f\"},\"type\":\"carpet\"}],\"table\":[{\"cells\":{\"fill\":{\"color\":\"#EBF0F8\"},\"line\":{\"color\":\"white\"}},\"header\":{\"fill\":{\"color\":\"#C8D4E3\"},\"line\":{\"color\":\"white\"}},\"type\":\"table\"}],\"barpolar\":[{\"marker\":{\"line\":{\"color\":\"#E5ECF6\",\"width\":0.5},\"pattern\":{\"fillmode\":\"overlay\",\"size\":10,\"solidity\":0.2}},\"type\":\"barpolar\"}],\"pie\":[{\"automargin\":true,\"type\":\"pie\"}]},\"layout\":{\"autotypenumbers\":\"strict\",\"colorway\":[\"#636efa\",\"#EF553B\",\"#00cc96\",\"#ab63fa\",\"#FFA15A\",\"#19d3f3\",\"#FF6692\",\"#B6E880\",\"#FF97FF\",\"#FECB52\"],\"font\":{\"color\":\"#2a3f5f\"},\"hovermode\":\"closest\",\"hoverlabel\":{\"align\":\"left\"},\"paper_bgcolor\":\"white\",\"plot_bgcolor\":\"#E5ECF6\",\"polar\":{\"bgcolor\":\"#E5ECF6\",\"angularaxis\":{\"gridcolor\":\"white\",\"linecolor\":\"white\",\"ticks\":\"\"},\"radialaxis\":{\"gridcolor\":\"white\",\"linecolor\":\"white\",\"ticks\":\"\"}},\"ternary\":{\"bgcolor\":\"#E5ECF6\",\"aaxis\":{\"gridcolor\":\"white\",\"linecolor\":\"white\",\"ticks\":\"\"},\"baxis\":{\"gridcolor\":\"white\",\"linecolor\":\"white\",\"ticks\":\"\"},\"caxis\":{\"gridcolor\":\"white\",\"linecolor\":\"white\",\"ticks\":\"\"}},\"coloraxis\":{\"colorbar\":{\"outlinewidth\":0,\"ticks\":\"\"}},\"colorscale\":{\"sequential\":[[0.0,\"#0d0887\"],[0.1111111111111111,\"#46039f\"],[0.2222222222222222,\"#7201a8\"],[0.3333333333333333,\"#9c179e\"],[0.4444444444444444,\"#bd3786\"],[0.5555555555555556,\"#d8576b\"],[0.6666666666666666,\"#ed7953\"],[0.7777777777777778,\"#fb9f3a\"],[0.8888888888888888,\"#fdca26\"],[1.0,\"#f0f921\"]],\"sequentialminus\":[[0.0,\"#0d0887\"],[0.1111111111111111,\"#46039f\"],[0.2222222222222222,\"#7201a8\"],[0.3333333333333333,\"#9c179e\"],[0.4444444444444444,\"#bd3786\"],[0.5555555555555556,\"#d8576b\"],[0.6666666666666666,\"#ed7953\"],[0.7777777777777778,\"#fb9f3a\"],[0.8888888888888888,\"#fdca26\"],[1.0,\"#f0f921\"]],\"diverging\":[[0,\"#8e0152\"],[0.1,\"#c51b7d\"],[0.2,\"#de77ae\"],[0.3,\"#f1b6da\"],[0.4,\"#fde0ef\"],[0.5,\"#f7f7f7\"],[0.6,\"#e6f5d0\"],[0.7,\"#b8e186\"],[0.8,\"#7fbc41\"],[0.9,\"#4d9221\"],[1,\"#276419\"]]},\"xaxis\":{\"gridcolor\":\"white\",\"linecolor\":\"white\",\"ticks\":\"\",\"title\":{\"standoff\":15},\"zerolinecolor\":\"white\",\"automargin\":true,\"zerolinewidth\":2},\"yaxis\":{\"gridcolor\":\"white\",\"linecolor\":\"white\",\"ticks\":\"\",\"title\":{\"standoff\":15},\"zerolinecolor\":\"white\",\"automargin\":true,\"zerolinewidth\":2},\"scene\":{\"xaxis\":{\"backgroundcolor\":\"#E5ECF6\",\"gridcolor\":\"white\",\"linecolor\":\"white\",\"showbackground\":true,\"ticks\":\"\",\"zerolinecolor\":\"white\",\"gridwidth\":2},\"yaxis\":{\"backgroundcolor\":\"#E5ECF6\",\"gridcolor\":\"white\",\"linecolor\":\"white\",\"showbackground\":true,\"ticks\":\"\",\"zerolinecolor\":\"white\",\"gridwidth\":2},\"zaxis\":{\"backgroundcolor\":\"#E5ECF6\",\"gridcolor\":\"white\",\"linecolor\":\"white\",\"showbackground\":true,\"ticks\":\"\",\"zerolinecolor\":\"white\",\"gridwidth\":2}},\"shapedefaults\":{\"line\":{\"color\":\"#2a3f5f\"}},\"annotationdefaults\":{\"arrowcolor\":\"#2a3f5f\",\"arrowhead\":0,\"arrowwidth\":1},\"geo\":{\"bgcolor\":\"white\",\"landcolor\":\"#E5ECF6\",\"subunitcolor\":\"white\",\"showland\":true,\"showlakes\":true,\"lakecolor\":\"white\"},\"title\":{\"x\":0.05},\"mapbox\":{\"style\":\"light\"}}},\"xaxis\":{\"anchor\":\"y\",\"domain\":[0.0,1.0],\"title\":{\"text\":\"\\u041a\\u043e\\u043b\\u0438\\u0447\\u0435\\u0441\\u0442\\u0432\\u043e \\u0434\\u043d\\u0435\\u0439 \\u043f\\u043e\\u0441\\u043b\\u0435 \\u0434\\u0435\\u0434\\u043b\\u0430\\u0439\\u043d\\u0430\"}},\"yaxis\":{\"anchor\":\"x\",\"domain\":[0.0,1.0],\"title\":{\"text\":\"value\"}},\"legend\":{\"title\":{\"text\":\"variable\"},\"tracegroupgap\":0},\"margin\":{\"t\":60},\"height\":350,\"width\":1350},                        {\"responsive\": true}                    ).then(function(){\n",
              "                            \n",
              "var gd = document.getElementById('0cdfff13-ac86-4e38-ac72-713552c62ff5');\n",
              "var x = new MutationObserver(function (mutations, observer) {{\n",
              "        var display = window.getComputedStyle(gd).display;\n",
              "        if (!display || display === 'none') {{\n",
              "            console.log([gd, 'removed!']);\n",
              "            Plotly.purge(gd);\n",
              "            observer.disconnect();\n",
              "        }}\n",
              "}});\n",
              "\n",
              "// Listen for the removal of the full notebook cells\n",
              "var notebookContainer = gd.closest('#notebook-container');\n",
              "if (notebookContainer) {{\n",
              "    x.observe(notebookContainer, {childList: true});\n",
              "}}\n",
              "\n",
              "// Listen for the clearing of the current output cell\n",
              "var outputEl = gd.closest('.output');\n",
              "if (outputEl) {{\n",
              "    x.observe(outputEl, {childList: true});\n",
              "}}\n",
              "\n",
              "                        })                };                            </script>        </div>\n",
              "</body>\n",
              "</html>"
            ]
          },
          "metadata": {}
        }
      ]
    },
    {
      "cell_type": "markdown",
      "metadata": {
        "id": "tPEt1WwpLpFK"
      },
      "source": [
        "<h1 align=\"center\">Check Questions (5%)</h1>"
      ]
    },
    {
      "cell_type": "markdown",
      "metadata": {
        "id": "eT4beARALpFL"
      },
      "source": [
        "Ответе на вопросы своими словами (загугленный материал надо пересказать), ответ обоснуйте (напишите и ОБЪЯСНИТЕ формулки если потребуется), если не выходит, то вернитесь к лекции дополнительным материалам:\n",
        "\n",
        "**Вопрос 1**: Опишите, как изменяется адаптивная способность алгоритма Simple Exponential Smoothing при изменении параметра $\\alpha$ от 0 до 1.\n",
        "\n",
        "<Ответ>\n",
        "\n",
        "**Вопрос 2**: Докажите равенство выражений в $\\color{blue}{рекуррентной~форме}$ и в $\\color{red} {форме~корректировки~на~ошибку}$ для модели Хольта.\n",
        "\n",
        "$$        l_t = \\color{blue}{\\alpha y_t + (1-\\alpha) (l_{t-1} + b_{t-1} )} = \\color{red}{\\hat y_{t} + \\alpha e_t}$$\n",
        "\n",
        "$$b_t = \\color{blue}{\\beta (l_{t} - l_{t-1} ) + (1-\\beta) b_{t-1}} = \\color{red}{b_{t-1}+ \\alpha\\beta e_t}.$$</td>\n",
        "\n",
        "<Ответ>\n",
        "\n",
        "**Вопрос 3**: Каким следует выбрать параметр сглаживания тренда $\\beta$ в модели Хольта (линейный тренд) в случае, когда вы предсказываете временной ряд 1) с плавно меняющимя трендом; 2) стохастически меняющися трендом?\n",
        "\n",
        "<Ответ>\n"
      ]
    },
    {
      "cell_type": "markdown",
      "metadata": {
        "id": "LpfNKng6LpFN"
      },
      "source": [
        "<h1 align=\"center\"> Practice</h1>\n",
        "\n",
        "#1. reading data (5%)\n",
        "\n",
        "Download data and prepare for following time series\n",
        " * <span style=\"color:blue; font-family:'New Times Roman'; font-size:14pt\"> description of the target ts you can find here  https://docs.google.com/spreadsheets/d/1HwwDZMCVUl-wpdY39TdBBKMwvks9VTe2gIpFtGBu-28/edit#gid=1251818784 </span> sheet \"Анализ временных рядов\" column C (\"ts\")\n",
        "\n"
      ]
    },
    {
      "cell_type": "code",
      "source": [],
      "metadata": {
        "id": "vsaUVjqMSX7i"
      },
      "execution_count": null,
      "outputs": []
    },
    {
      "cell_type": "code",
      "metadata": {
        "id": "1PA1elxdLpFO"
      },
      "source": [
        "# start with this code\n",
        "import pandas as pd\n",
        "import numpy as np\n",
        "from utils import InitExponentialSmoothing, build_forecast, plot_ts_forecast\n",
        "from utils import qualityMAPE\n",
        "\n",
        "%matplotlib inline\n",
        "\n",
        "\n",
        "# ts = pd.read_csv('???/mothly_ts.csv', sep=???, decimal=???, index_col=???, parse_dates=True, dayfirst=True)\n",
        "\n",
        "# # Put your code below\n",
        "# ts.plot(figsize=(15,5))"
      ],
      "execution_count": null,
      "outputs": []
    },
    {
      "cell_type": "markdown",
      "metadata": {
        "id": "eU1vXagNLpFR"
      },
      "source": [
        "# 2. Build the Forecast with  SES (20%)\n",
        "\n",
        "You need to apply SES model for the ts.\n",
        "You can use code from seminars or you can write down your own code using any python lib.\n",
        "\n",
        "Forecast delay $h=1$ for all point in this task.\n",
        "\n",
        "* 0) Forecast the ts with SES $\\alpha=.1$.\n",
        "* 1) Split the ts to 4 equal parts: find the best param $\\alpha$ of SES for the based on 3-rd part of ts (e.g. if time series includes date from 01Jan2020 till 31Dec2021 then 3rd part will be from 1Jul2020 till 30Sep2020). Is the optimal value close to 0 or 1? (use MAPE as a loss function).\n",
        "* 2) Draw the forecast that correspond to SES with optimial value $\\alpha$\n",
        "     Conclude whether SES can be used for this TS? If can not than explain why.\n",
        "* 3) Calculate MAPE loss of the best forecast of the ts based on 4-th part of the ts.\n",
        "\n",
        "---\n",
        "\n"
      ]
    },
    {
      "cell_type": "markdown",
      "metadata": {
        "id": "HE-cPXRpLpFS"
      },
      "source": [
        "## 1) Search for the optimal $\\alpha$"
      ]
    },
    {
      "cell_type": "code",
      "metadata": {
        "id": "K0wdYKmZLpFS"
      },
      "source": [
        "ALPHA = ???\n",
        "ESParamsArray = [{'alpha':alpha} for alpha in ALPHA]\n",
        "FRC_ts = build_forecast(h=1, ts=???, alg_name =  ???, alg_title=???,params_array = ESParamsArray)"
      ],
      "execution_count": null,
      "outputs": []
    },
    {
      "cell_type": "code",
      "metadata": {
        "id": "5djZWrMnLpFU"
      },
      "source": [
        "# compare ES parameters\n",
        "QualityStr = pd.DataFrame(index = ts.columns, columns = FRC_ts.keys())\n",
        "\n",
        "ix = ts.loc[???].index\n",
        "for param_cntr in sorted(QualityStr.columns):\n",
        "    frc_ts = FRC_ts[param_cntr]\n",
        "    QualityStr[param_cntr],_ = quality???(ts.loc[ix], frc_ts.loc[ix])\n",
        "\n",
        "QualityStr[QualityStr.columns].mean().sort_values()"
      ],
      "execution_count": null,
      "outputs": []
    },
    {
      "cell_type": "markdown",
      "metadata": {
        "id": "DwlMA4YGLpFV"
      },
      "source": [
        "## 2) draw the forecast with optimial value $\\alpha $"
      ]
    },
    {
      "cell_type": "code",
      "metadata": {
        "id": "D9n8LEmcLpFV"
      },
      "source": [
        "alg_name = QualityStr[QualityStr.columns].mean().sort_values().index[0]\n",
        "plot_ts_forecast(ts.loc[???], FRC_ts[alg_name].loc[???]\n",
        "               , ts_num=???, alg_title=???)"
      ],
      "execution_count": null,
      "outputs": []
    },
    {
      "cell_type": "markdown",
      "metadata": {
        "id": "ZluTuWtdLpFW"
      },
      "source": [
        "** Question**\n",
        "    * Does SES follow to the TS components?"
      ]
    },
    {
      "cell_type": "markdown",
      "metadata": {
        "id": "rT5xAly7LpFW"
      },
      "source": [
        "## 3) Calculate loss of the forecast of TS in 4th part of the time series"
      ]
    },
    {
      "cell_type": "code",
      "metadata": {
        "id": "0o8ciKSCLpFX"
      },
      "source": [
        "quality???(ts.loc[???], FRC_ts[alg_name].loc[???])[0]"
      ],
      "execution_count": null,
      "outputs": []
    },
    {
      "cell_type": "markdown",
      "metadata": {
        "id": "mo7uuFBFLpFX"
      },
      "source": [
        "# 3. Winters model for Additive Seasonality (25%)\n",
        "You need to realize ES model for TS with additive seasonality and then apply it to the ts.\n",
        "\n",
        "You can use code from seminars or you can write down your own code using any python lib.\n",
        "\n",
        "\n",
        "Forecast delay $h=1$ for all point in this task.\n",
        "\n",
        "* 1) Realize Additive Winters model\n",
        "* 2) Split the ts to 4 equal parts: find the best params $\\alpha$ (smoothing of level) and $\\gamma$ (smoothing of seasonality) for the based on 3-rd part of ts (e.g. if time series includes date from 01Jan2020 till 31Dec2021 then 3rd part will be from 1Jul2020 till 30Sep2020). Use MAPE as a loss function.\n",
        "* 3) Draw the forecast that correspond optimal values $\\alpha$ and $\\gamma$ for the whole TS\n",
        "* 4) Calculate MAPE loss of the best forecast of the ts based on 4-th part of the ts. Compare it with accuracy of SES: is it better?\n",
        "* 5) Based on results of 3) and 4) conclude whether Additive Winter's ES is appropriate for this TS."
      ]
    },
    {
      "cell_type": "code",
      "metadata": {
        "collapsed": true,
        "id": "GWggjDXGLpFY"
      },
      "source": [
        "# Start with this code\n",
        "###################### Winters Exponential Smoothing #########################\n",
        "# x <array Tx1>- time series,\n",
        "# h <scalar> - forecasting delay\n",
        "# Params <dict> - dictionary with\n",
        "#    alpha <scalar in [0,1]> - smoothing parameter\n",
        "#    delts <scalar in [0,1]> - seasonality smoothing parameter\n",
        "\n",
        "def WintersExponentialSmoothing(x, h, Params):\n",
        "    T = len(x)\n",
        "    alpha = Params['alpha']\n",
        "    gamma = Params['gamma']\n",
        "    p = Params['seasonality_period']\n",
        "\n",
        "    FORECAST = ## put foreast of the model here\n",
        "\n",
        "    l= # initialize ts level\n",
        "    s= # initalize seasonality values (it must be vector of lenth p)\n",
        "\n",
        "    for cntr in range(T):\n",
        "        if not math.isnan(x[cntr]):\n",
        "            if math.isnan(l):\n",
        "                l= # initialize\n",
        "\n",
        "            if math.isnan(s[cntr % p]):\n",
        "                s[cntr % p]= # initialize\n",
        "\n",
        "            l = # recurrent smoothing of level\n",
        "            s[cntr % p] = # recurrent smoothing of seasonality\n",
        "\n",
        "        FORECAST[cntr+h] = ??\n",
        "    return FORECAST"
      ],
      "execution_count": null,
      "outputs": []
    },
    {
      "cell_type": "code",
      "metadata": {
        "collapsed": true,
        "id": "HbInPw3KLpFZ"
      },
      "source": [
        "# Put your code here\n"
      ],
      "execution_count": null,
      "outputs": []
    },
    {
      "cell_type": "markdown",
      "metadata": {
        "id": "FqlkdBgHLpFZ"
      },
      "source": [
        "# 4. Theil-Wage model for TS with linear trend and seasonality (25%)\n",
        "You need to realize Theil-Wage model and then use it for forecasting the ts.\n",
        "\n",
        "You can use code from seminars or you can write down your own code using any python lib.\n",
        "\n",
        "\n",
        "Forecast delay $h=1$ for all point in this task.\n",
        "\n",
        "* 1) Realize Theil-Wage model\n",
        "* 2) Split the ts to 4 equal parts: find the best params $\\alpha$ (smoothing of level) and $\\gamma$ (smoothing of seasonality) for the based on 3-rd part of ts (e.g. if time series includes date from 01Jan2020 till 31Dec2021 then 3rd part will be from 1Jul2020 till 30Sep2020). Use MAPE as a loss function.\n",
        "* 3) Draw forecast with optimal values $\\alpha$, $\\beta$ and $\\gamma$\n",
        "* 4) Calculate MAPE loss of the best forecast of the ts based on 4-th part of the ts. Compare it with accuracy of Additive Winters model: is it better than the last one?\n",
        "* *5) Suggest how can the Theil-Wage model be improved to make accuracy of forecast better?"
      ]
    },
    {
      "cell_type": "code",
      "metadata": {
        "collapsed": true,
        "id": "Ol9u1sDxLpFZ"
      },
      "source": [
        "# Put your code here"
      ],
      "execution_count": null,
      "outputs": []
    },
    {
      "cell_type": "markdown",
      "metadata": {
        "id": "ySLymROaLpFa"
      },
      "source": [
        "# 5. Non-additive model of ES (25%)\n",
        "You need to realize some ES-model that include non-addive component (or multiplicative trend or multiplicative component) or/and damped-trend component and then use it for forecasting of the ts\n",
        "\n",
        "You can use code from seminars or you can write down your own code using any python lib.\n",
        "\n",
        "Forecast delay $h=1$ for all point in this task.\n",
        "\n",
        "* 1) Realize one of following ES models: ESM(A,M) (t.e. Holt-Winters model), ESM(Ad,M), ESM(M,A), ESM(M,M), ESM(Md,M) model.\n",
        "* 2) Split the ts to 4 equal parts: find the best params $\\alpha$ (smoothing of level) and $\\gamma$ (smoothing of seasonality) for the based on 3-rd part of ts (e.g. if time series includes date from 01Jan2020 till 31Dec2021 then 3rd part will be from 1Jul2020 till 30Sep2020). Use MAPE as a loss function.\n",
        "Note: if you seelct damped trend model then you can set  $\\phi$ value expertly (say $0.98$). (Loss function should be the same as in task 2.)\n",
        "* 3) Draw forecast with optimal values of it's params.\n",
        "* 4) Calculate accuracy of the forecast of TS based on 4-th part of the ts. Compare it with accuracy of Additive Winters model and Theil-Wage model, which model is the best?\n",
        "* 5) Will be results the same if forecas horizon is different (h = seasonlaity period of data)? Please give reasons for your answer."
      ]
    },
    {
      "cell_type": "code",
      "metadata": {
        "collapsed": true,
        "id": "jJIzoa_2LpFb"
      },
      "source": [
        "# Put your code here"
      ],
      "execution_count": null,
      "outputs": []
    }
  ]
}