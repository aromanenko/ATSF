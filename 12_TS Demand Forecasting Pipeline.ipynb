{
  "cells": [
    {
      "cell_type": "markdown",
      "source": [
        "HSE, Applied Time Series Forecasitng , Winter 2022-23 \n",
        "\n",
        "<font color=\"blue\"> Lesson #12: TS Demand Forecasting Pipeline </font>\n",
        "\n",
        "<span style=\"color:black; font-size: 12pt\"></span>\n",
        "\n",
        "Alexey Romanenko,\n",
        "<font color=\"blue\">alexromsput@gmail.com</font>"
      ],
      "metadata": {
        "id": "UxHzA9iLmHWB"
      }
    },
    {
      "cell_type": "markdown",
      "source": [
        "# Demand Restoration"
      ],
      "metadata": {
        "id": "emTXgaoGmYz9"
      }
    },
    {
      "cell_type": "markdown",
      "source": [
        "# Hierarchical forecasting"
      ],
      "metadata": {
        "id": "N2u3Be6Jmbei"
      }
    },
    {
      "cell_type": "markdown",
      "source": [
        "# Price Elasticity Demand Model"
      ],
      "metadata": {
        "id": "DDOrOrY7nRtI"
      }
    }
  ],
  "metadata": {
    "kernelspec": {
      "display_name": "Python 3",
      "language": "python",
      "name": "python3"
    },
    "language_info": {
      "codemirror_mode": {
        "name": "ipython",
        "version": 3
      },
      "file_extension": ".py",
      "mimetype": "text/x-python",
      "name": "python",
      "nbconvert_exporter": "python",
      "pygments_lexer": "ipython3",
      "version": "3.6.1"
    },
    "colab": {
      "provenance": []
    }
  },
  "nbformat": 4,
  "nbformat_minor": 0
}