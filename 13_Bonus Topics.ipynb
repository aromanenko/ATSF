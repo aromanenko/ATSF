{
  "cells": [
    {
      "cell_type": "markdown",
      "source": [
        "HSE, Applied Time Series Forecasitng , Winter 2023-24\n",
        "\n",
        "<font color=\"green\"> Lesson #13: Bonus Topics </font>\n",
        "\n",
        "<span style=\"color:black; font-size: 12pt\"></span>\n",
        "\n",
        "Alexey Romanenko,\n",
        "<font color=\"blue\">alexromsput@gmail.com</font>\n",
        "\n",
        "**Key words:**\n",
        " demand restoration, value from forecasting\n",
        "\n",
        "**Your feedback:**  please provide you feedback  <a href=\"https://forms.gle/bEV5iwmTqdM9rUoy8\"> here </a>"
      ],
      "metadata": {
        "id": "UxHzA9iLmHWB"
      }
    },
    {
      "cell_type": "markdown",
      "source": [
        "# Business Value from Forecasting\n",
        " Business case: your company launched new Demand Forecasting System. What couldn't be as a business-value due to this implementation?\n",
        "  \n",
        "  a) free money due less overforecasting or less underforecasting\n",
        "  \n",
        "  b) free resources of analytics (less cost of support resources)\n",
        "  \n",
        "  c) increase transparancy and consistency in decision making processes (new money will come)\n",
        "  \n",
        "  d) speed up decision making process (more money due to fast reaction, more frequent decision making process)"
      ],
      "metadata": {
        "id": "emTXgaoGmYz9"
      }
    },
    {
      "cell_type": "markdown",
      "source": [
        "#Demand restoration\n",
        " - <a href ='https://github.com/aromanenko/ATSF/tree/main/e2e%20demand%20forecasting%20pipeline' > theoretical part </a>\n",
        "\n",
        " -  <a href = 'https://github.com/aromanenko/ATSF/blob/main/e2e%20demand%20forecasting%20pipeline/src/demand_restoration.py'> example of production code </a>\n",
        "\n",
        "\n",
        "\n",
        "<!-- # Implementation of Demand Forecastin Systems\n",
        " * True but expensive: AB test (regarding decision-making process)\n",
        " * Acceptance criteria: Designer of DFS Acceptance Calculator.xlsx\n",
        " * Go-live: RealCase_accuracy_report_june_2019_v2.xlsx  -->"
      ],
      "metadata": {
        "id": "N2u3Be6Jmbei"
      }
    },
    {
      "cell_type": "markdown",
      "source": [
        "HW3 Solution\n",
        "  - <a href = 'https://github.com/aromanenko/ATSF/blob/wip/hw3_solution_example.ipynb'> example </a>"
      ],
      "metadata": {
        "id": "4AnWiYLsszrD"
      }
    },
    {
      "cell_type": "markdown",
      "source": [
        "# Using of python packages for time series forecasting\n",
        "\n",
        "https://github.com/aromanenko/ATSF/wiki/List-of-packages-for-Time-Series-Forecasting-in-Python"
      ],
      "metadata": {
        "id": "DDOrOrY7nRtI"
      }
    }
  ],
  "metadata": {
    "kernelspec": {
      "display_name": "Python 3",
      "language": "python",
      "name": "python3"
    },
    "language_info": {
      "codemirror_mode": {
        "name": "ipython",
        "version": 3
      },
      "file_extension": ".py",
      "mimetype": "text/x-python",
      "name": "python",
      "nbconvert_exporter": "python",
      "pygments_lexer": "ipython3",
      "version": "3.6.1"
    },
    "colab": {
      "provenance": []
    }
  },
  "nbformat": 4,
  "nbformat_minor": 0
}