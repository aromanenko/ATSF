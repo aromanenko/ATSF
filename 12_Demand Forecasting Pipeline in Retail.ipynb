{
  "cells": [
    {
      "cell_type": "code",
      "execution_count": null,
      "metadata": {
        "collapsed": true,
        "id": "GXx9G0krlKfq"
      },
      "outputs": [],
      "source": [
        "import pandas as pd\n",
        "import numpy as np"
      ]
    },
    {
      "cell_type": "markdown",
      "source": [
        "HSE, Applied Time Series Forecasitng , Winter 2022-23 \n",
        "\n",
        "<font color=\"blue\"> Lesson #12: TS Segmentation approaches</font>\n",
        "\n",
        "<span style=\"color:black; font-size: 12pt\"></span>\n",
        "\n",
        "Alexey Romanenko,\n",
        "<font color=\"blue\">alexromsput@gmail.com</font>"
      ],
      "metadata": {
        "id": "UxHzA9iLmHWB"
      }
    },
    {
      "cell_type": "markdown",
      "source": [
        "# Demand Restoration"
      ],
      "metadata": {
        "id": "emTXgaoGmYz9"
      }
    },
    {
      "cell_type": "markdown",
      "source": [
        "# Hierarchical forecasting"
      ],
      "metadata": {
        "id": "N2u3Be6Jmbei"
      }
    },
    {
      "cell_type": "markdown",
      "source": [
        "# Price Elasticity Demand Model"
      ],
      "metadata": {
        "id": "DDOrOrY7nRtI"
      }
    },
    {
      "cell_type": "markdown",
      "metadata": {
        "id": "Vsm0ooOqlKfu"
      },
      "source": [
        "На самом деле оценка такая\n",
        "\n",
        "### $$ \\lambda=\\frac{\\sum_{𝑖: 0≤k_i≤m_i}k_i}{𝑛_{0≤k_i<m_i}+\\sum_{𝑖:k_i= m_i>0}\\left(1−\\theta_{m_i, \\lambda} \\right) }$$\n",
        "\n",
        "\n",
        "где $\\theta_(m_i \\lambda) показатель экспоненты при оценке хвоста разложения $𝑒^\\lambda$ до m_i члена по формуле Тейлора\n",
        "    \n",
        "Воспользуемся разложением Тейлора:\n",
        "\n",
        "### $$1−\\sum_{l=0}^{m_i−1}\\frac{\\lambda^l}{l!} 𝑒^{−\\lambda}  =\\sum_{l=m_i}^\\infty\\frac{\\lambda^l}{l!} 𝑒^{−\\lambda} =\\frac{\\lambda^m_i}{m_i !} 𝑒^{\\theta\\lambda} 𝑒^{−\\lambda}=\\frac{\\lambda^{m_i}}{m_i !} 𝑒^{\\theta\\lambda} 𝑒^{−\\lambda}$$\n",
        "\n",
        "где $\\theta$ – параметр зависящий от $\\lambda$ и $m_i$.\n",
        "    подставим в оптимизационную задачу:\n",
        "    ln⁡\\lambda⋅\\sum_(𝑖:0≤k_i<m_i)k_i −\\lambda⋅𝑛_(0≤k_i<m_i )+\\sum_(𝑖:k_i= m_i>0)ln⁡((\\lambda)^(m_i )/(m_i !) 𝑒^(\\theta_(m_i \\lambda) \\lambda) 𝑒^(−\\lambda) ) =ln⁡\\lambda⋅\\sum_(𝑖:0≤k_i<m_i)k_i −\\lambda⋅𝑛_(0≤k_i<m_i )+\\sum_(𝑖:k_i= m_i>0)(k_i⋅ln⁡\\lambda+(\\theta_(m_i \\lambda)−1)⋅\\lambda) +𝐶\n",
        "    ln L=  ln⁡\\lambda⋅\\sum_(𝑖:0≤k_i≤m_i)k_i − \\lambda⋅(𝑛_(0≤k_i<m_i )+\\sum_(𝑖:k_i= m_i>0)(1−\\theta_(m_i \\lambda) ) )+𝐶\n",
        "     \n",
        "    (\\delta ln L)/\\delta\\lambda=(\\sum_(𝑖:0≤k_i≤m_i)k_i )/\\lambda−(𝑛_(0≤k_i<m_i )+\\sum_(𝑖:k_i= m_i>0)(1−\\theta_(m_i \\lambda) ) )=0\n",
        "     \n",
        "    \\lambda=(\\sum_(𝑖:0≤k_i≤m_i)k_i )/(𝑛_(0≤k_i<m_i )+\\sum_(𝑖:k_i= m_i>0)(1−\\theta_(m_i \\lambda) ) )\n",
        "    где  𝑛_(0≤k_i<m_i ) – это количество дней где был ненулевой остаток и при этом не весь остаток был распродан но при этом остаток на складе был равен 1."
      ]
    },
    {
      "cell_type": "markdown",
      "metadata": {
        "id": "hK2spCPBlKfw"
      },
      "source": [
        "Рекомендации по настройке $\\lambda$: самым неприятным моментом является зависимоcть λ от θ_(m_i,λ), который зависит от λ, поэтому финальное решение нужно находить итерационно (как?):\n",
        "\n",
        "$$\\theta_{m_i,\\lambda}=1+\\frac{1}{\\lambda}  \\ln⁡ \\frac{\\left(1-\\sum_{l=0}^{m_i-1}\\frac{\\lambda^l}{l!} e^{-\\lambda}\\right)}{\\frac{\\lambda^{m_i}}{m_i !}}= $$\n",
        "$$1+\\frac{1}{\\lambda} \\left( \\ln⁡ \\left(1-\\sum_{l=0}^{m_i-1}\\frac{\\lambda^l}{l!} e^{-\\lambda}\\right)- m_i \\ln{\\lambda} + \\ln{m_i !}\\right).$$"
      ]
    },
    {
      "cell_type": "code",
      "execution_count": null,
      "metadata": {
        "id": "oJ1Ne3C1lKfx"
      },
      "outputs": [],
      "source": [
        "m =range(100)\n",
        "lmb =np.linspace(0.1, 10, 100)"
      ]
    },
    {
      "cell_type": "code",
      "execution_count": null,
      "metadata": {
        "collapsed": true,
        "id": "iLe0rZzPlKfy"
      },
      "outputs": [],
      "source": [
        "import math"
      ]
    },
    {
      "cell_type": "code",
      "execution_count": null,
      "metadata": {
        "id": "uLcVdpeglKfy"
      },
      "outputs": [],
      "source": [
        "m_f = math.factorial(100)"
      ]
    },
    {
      "cell_type": "code",
      "execution_count": null,
      "metadata": {
        "collapsed": true,
        "id": "a6jayPtslKfz"
      },
      "outputs": [],
      "source": [
        "lmb = 0.1\n",
        "m = 100"
      ]
    },
    {
      "cell_type": "code",
      "execution_count": null,
      "metadata": {
        "id": "tFpMYZE5lKf0",
        "outputId": "2438ab9c-215c-4fba-cf8d-8fdd432e63ec"
      },
      "outputs": [
        {
          "data": {
            "text/plain": [
              "93326215443944152681699238856266700490715968264381621468592963895217599993229915608941463976156518286253697920827223758251185210916864000000000000000000000000"
            ]
          },
          "execution_count": 10,
          "metadata": {},
          "output_type": "execute_result"
        }
      ],
      "source": [
        "m_f = math.factorial(100)\n",
        "m_f"
      ]
    },
    {
      "cell_type": "code",
      "execution_count": null,
      "metadata": {
        "id": "N4lWPFFRlKf1",
        "outputId": "79d24382-0914-4d5b-d87f-389383c19d83"
      },
      "outputs": [
        {
          "data": {
            "text/plain": [
              "1.0000000000000056e-100"
            ]
          },
          "execution_count": 11,
          "metadata": {},
          "output_type": "execute_result"
        }
      ],
      "source": [
        "l_m_p= lmb**m\n",
        "l_m_p"
      ]
    },
    {
      "cell_type": "code",
      "execution_count": null,
      "metadata": {
        "id": "n5xvtGQmlKf2",
        "outputId": "2655e799-b72e-44c3-8118-846a23fbb75f"
      },
      "outputs": [
        {
          "data": {
            "text/plain": [
              "1.071510288125473e-258"
            ]
          },
          "execution_count": 12,
          "metadata": {},
          "output_type": "execute_result"
        }
      ],
      "source": [
        "l_m_p/m_f"
      ]
    },
    {
      "cell_type": "code",
      "execution_count": null,
      "metadata": {
        "collapsed": true,
        "id": "LEU3ILiLlKf3"
      },
      "outputs": [],
      "source": [
        "def summator(m, l):\n",
        "    s = 0\n",
        "    for i in range(m):\n",
        "        s+=((l**i)/math.factorial(i))*math.exp(-l)\n",
        "    \n",
        "    return s"
      ]
    },
    {
      "cell_type": "code",
      "execution_count": null,
      "metadata": {
        "id": "0pjQEv2ZlKf3",
        "outputId": "6a55f251-99d5-4f18-b70f-4b0af8ce0cf5"
      },
      "outputs": [
        {
          "data": {
            "text/plain": [
              "6.293638526387592"
            ]
          },
          "execution_count": 28,
          "metadata": {},
          "output_type": "execute_result"
        }
      ],
      "source": [
        "m=2\n",
        "lmb =0.1\n",
        "summator(m, lmb) - m*math.log(lmb) + math.log(math.factorial(m))"
      ]
    },
    {
      "cell_type": "code",
      "execution_count": null,
      "metadata": {
        "collapsed": true,
        "id": "V3BG_59AlKf4"
      },
      "outputs": [],
      "source": []
    }
  ],
  "metadata": {
    "kernelspec": {
      "display_name": "Python 3",
      "language": "python",
      "name": "python3"
    },
    "language_info": {
      "codemirror_mode": {
        "name": "ipython",
        "version": 3
      },
      "file_extension": ".py",
      "mimetype": "text/x-python",
      "name": "python",
      "nbconvert_exporter": "python",
      "pygments_lexer": "ipython3",
      "version": "3.6.1"
    },
    "colab": {
      "provenance": []
    }
  },
  "nbformat": 4,
  "nbformat_minor": 0
}