{
  "nbformat": 4,
  "nbformat_minor": 0,
  "metadata": {
    "kernelspec": {
      "display_name": "Python 3",
      "language": "python",
      "name": "python3"
    },
    "language_info": {
      "codemirror_mode": {
        "name": "ipython",
        "version": 3
      },
      "file_extension": ".py",
      "mimetype": "text/x-python",
      "name": "python",
      "nbconvert_exporter": "python",
      "pygments_lexer": "ipython3",
      "version": "3.8.8"
    },
    "colab": {
      "name": "9_TS Segmentation Approaches.ipynb",
      "provenance": []
    }
  },
  "cells": [
    {
      "cell_type": "markdown",
      "metadata": {
        "id": "QYjNN0XG1xkR"
      },
      "source": [
        "HSE, Applied Time Series Forecasitng , Winter 2022-23 \n",
        "\n",
        "<font color=\"blue\"> Lesson #10: DL and other approaches in Time Series Forecasting</font>\n",
        "\n",
        "<span style=\"color:black; font-size: 12pt\"></span>\n",
        "\n",
        "Alexey Romanenko,\n",
        "<font color=\"blue\">alexromsput@gmail.com</font>"
      ]
    },
    {
      "cell_type": "markdown",
      "metadata": {
        "id": "0bEXtbW_19Tx"
      },
      "source": [
        "**Key words:** \n",
        "    - Deep Learning for Time Series Forecasting\n",
        "\n",
        "**Your feedback:**  please provide you feedback  <a href=\"https://forms.gle/bEV5iwmTqdM9rUoy8\"> here </a>"
      ]
    },
    {
      "cell_type": "code",
      "metadata": {
        "id": "U86m2u2Q1suC"
      },
      "source": [
        "import numpy as np\n",
        "import matplotlib.pyplot as plt\n",
        "import pandas as pd\n",
        "import datetime \n",
        "\n",
        "# don't forget to upload utils file to the colab session\n",
        "import warnings\n",
        "\n",
        "warnings.filterwarnings('ignore')\n",
        "\n",
        "# setting of the plotting style, registers pandas date converters for matplotlib and the default figure size\n",
        "import seaborn as sns\n",
        "sns.set_style(\"darkgrid\")\n",
        "pd.plotting.register_matplotlib_converters()\n",
        "# Default figure size\n",
        "sns.mpl.rc(\"figure\", figsize=(25, 5))\n",
        "sns.mpl.rc(\"font\", size=14)"
      ],
      "execution_count": 4,
      "outputs": []
    },
    {
      "cell_type": "markdown",
      "metadata": {
        "id": "T6cEYLv-QIk9"
      },
      "source": [
        "# DL in time series forecasting\n",
        "**Questions**\n",
        "* Does DL bring something new as time series forecasting approach?\n",
        "* What are advantages of DL approach"
      ]
    },
    {
      "cell_type": "markdown",
      "source": [
        "\n",
        "## LSTM vs ARIMA\n",
        "\n",
        "<img src = 'https://www.codeproject.com/KB/cross-platform/5165357/lstm-cell.png'>\n",
        "\n",
        "ARMA model:\n",
        "$$ y_t = \\sum_{i=1}^\\color{red}p \\alpha_i\\cdot y_{t-i}+\\sum_{j=1}^\\color{red}q \\beta_j\\cdot \\varepsilon_{t-j}+\\varepsilon_t$$\n",
        "<img src = 'https://github.com/aromanenko/ATSF/blob/main/pic/Memory%20term%20in%20TSF.PNG?raw=true' width = 500pt>\n",
        "\n",
        "**Question:**\n",
        "* What are key difference between LSTM and ARIMA?\n",
        "  - LSTM has non-linear components, \n",
        "  - LSTM has more sophisticated mixture of components"
      ],
      "metadata": {
        "id": "8WCiU5wtc4LE"
      }
    },
    {
      "cell_type": "markdown",
      "source": [
        "## Advantages of DL\n",
        "**Questions**\n",
        "* When non-linear transformation can be beneficial (can boost accuracy)?\n",
        "\n",
        "<img src = 'https://github.com/aromanenko/ATSF/blob/main/pic/DL_Advantages.PNG?raw=true' width = 500pt>\n",
        "\n",
        "<a href = \"https://cs229.stanford.edu/proj2012/BussetiOsbandWong-DeepLearningForTimeSeriesModeling.pdf\"> \n",
        "\n",
        "Article with analysis of DL for Energy Forecasting</a>"
      ],
      "metadata": {
        "id": "9lrhKLFOc-YW"
      }
    },
    {
      "cell_type": "markdown",
      "source": [
        "## Example of Usage\n",
        "https://github.com/aromanenko/DLDF/blob/master/models/Partial_predictions.ipynb\n",
        "\n",
        "https://github.com/aromanenko/DLDF/blob/master/features/FeaturesExploration.ipynb"
      ],
      "metadata": {
        "id": "y4YpOtJcG-T9"
      }
    },
    {
      "cell_type": "markdown",
      "source": [
        "# Intermittent Demand Forecasting Models\n",
        "Times Series with intermittent-demand-pattern contains non-zero actual values in random time points (non-zero actual values occur occasionaly).\n",
        "\n",
        "\n",
        "<img src = \"https://github.com/aromanenko/ATSF/blob/main/pic/IntermittentExample.PNG?raw=true\">\n",
        "<img src = \"https://github.com/aromanenko/ATSF/blob/main/pic/IntermittentExample2.PNG?raw=true\">"
      ],
      "metadata": {
        "id": "A2r48mJfhpZF"
      }
    },
    {
      "cell_type": "markdown",
      "source": [
        "## Intermittent Demand Time Series model\n",
        "\n",
        "$$ y_t = x_t\\cdot z_t +\\varepsilon_t$$\n",
        "\n",
        "   - $x_t$ - random variable (1 or 0) to have non-zero actual value       \n",
        "   - $z_t$ - actual volume\n",
        "\n",
        "\n",
        "**Note:**\n",
        " - sometimes intermittent time series are classified to more classes https://frepple.com/blog/demand-classification/\n",
        " - don't confuse intermittent and highly-causal driven time series:\n",
        "     -- we don't know time"
      ],
      "metadata": {
        "id": "UzVXYmFghyfp"
      }
    },
    {
      "cell_type": "markdown",
      "source": [
        "## Croston Model\n",
        "<img src = \"https://github.com/aromanenko/ATSF/blob/main/pic/CrostonIdea.PNG?raw=true\">"
      ],
      "metadata": {
        "id": "Pb8zJIr6h3XH"
      }
    },
    {
      "cell_type": "markdown",
      "source": [
        "**Croston Algorithm for Time Series Forecasting**\n",
        "\n",
        "$$ \\hat{y}_{t+1}=\\hat z_t/\\hat{n}_t$$\n",
        "where\n",
        "$$ \\hat z_t = \\begin{cases}z_{t-1}, & y_t==0 \\\\ \\alpha\\cdot{y_t}+(1-\\alpha) z_{t-1}, & y_t <>0 \\end{cases}$$\n",
        "\n",
        "$$ \\hat{n}_t = \\begin{cases}\\hat{n}_t, & y_t==0 \\\\ \\beta\\cdot{\\color{red}{n_t}}+(1-\\beta) \\hat{n}_{t-1}, & y_t <>0 \\end{cases}$$\n",
        "\n",
        "$\\alpha$ - smoothing parameter for time level value\n",
        "$\\beta$ - smoothing parameter for 0-intervals length forecasting"
      ],
      "metadata": {
        "id": "JFFu1_zmh-6M"
      }
    },
    {
      "cell_type": "markdown",
      "source": [
        "<img src = \"https://github.com/aromanenko/ATSF/blob/main/pic/CrostonIdea2.PNG?raw=true\">\n",
        "\n",
        "\n",
        "**Example of Realization**\n",
        "- https://towardsdatascience.com/croston-forecast-model-for-intermittent-demand-360287a17f5f"
      ],
      "metadata": {
        "id": "XWwLzvYziEed"
      }
    },
    {
      "cell_type": "code",
      "source": [
        "!pip install croston"
      ],
      "metadata": {
        "colab": {
          "base_uri": "https://localhost:8080/"
        },
        "id": "4Zbtfxp9O07y",
        "outputId": "8aff6a17-523a-45be-c3d9-9c083ccb228b"
      },
      "execution_count": 2,
      "outputs": [
        {
          "output_type": "stream",
          "name": "stdout",
          "text": [
            "Looking in indexes: https://pypi.org/simple, https://us-python.pkg.dev/colab-wheels/public/simple/\n",
            "Collecting croston\n",
            "  Downloading croston-0.1.2.4-py3-none-any.whl (3.8 kB)\n",
            "Requirement already satisfied: pandas in /usr/local/lib/python3.8/dist-packages (from croston) (1.3.5)\n",
            "Requirement already satisfied: numpy in /usr/local/lib/python3.8/dist-packages (from croston) (1.21.6)\n",
            "Requirement already satisfied: scipy in /usr/local/lib/python3.8/dist-packages (from croston) (1.7.3)\n",
            "Requirement already satisfied: python-dateutil>=2.7.3 in /usr/local/lib/python3.8/dist-packages (from pandas->croston) (2.8.2)\n",
            "Requirement already satisfied: pytz>=2017.3 in /usr/local/lib/python3.8/dist-packages (from pandas->croston) (2022.7)\n",
            "Requirement already satisfied: six>=1.5 in /usr/local/lib/python3.8/dist-packages (from python-dateutil>=2.7.3->pandas->croston) (1.15.0)\n",
            "Installing collected packages: croston\n",
            "Successfully installed croston-0.1.2.4\n"
          ]
        }
      ]
    },
    {
      "cell_type": "code",
      "source": [
        "from croston import croston\n",
        "import random\n",
        "\n",
        "a = np.zeros(50)\n",
        "val = np.array(random.sample(range(100,200), 10))\n",
        "idxs = random.sample(range(50), 10)\n",
        "\n",
        "ts = np.insert(a, idxs, val)\n",
        "\n",
        "fit_pred = croston.fit_croston(ts, 10,'original')\n",
        "\n",
        "yhat = np.concatenate([fit_pred['croston_fittedvalues'], fit_pred['croston_forecast']])\n",
        "\n",
        "plt.plot(ts)\n",
        "plt.plot(yhat)"
      ],
      "metadata": {
        "colab": {
          "base_uri": "https://localhost:8080/",
          "height": 264
        },
        "id": "VHD3KBOHOe9f",
        "outputId": "24a46935-21ff-4e64-c801-1ce89afcdc9e"
      },
      "execution_count": 7,
      "outputs": [
        {
          "output_type": "execute_result",
          "data": {
            "text/plain": [
              "[<matplotlib.lines.Line2D at 0x7fe74de8d4f0>]"
            ]
          },
          "metadata": {},
          "execution_count": 7
        },
        {
          "output_type": "display_data",
          "data": {
            "text/plain": [
              "<Figure size 1800x360 with 1 Axes>"
            ],
            "image/png": "[encoded data removed]"
          },
          "metadata": {}
        }
      ]
    },
    {
      "cell_type": "markdown",
      "source": [
        "# Other Regression models\n",
        "\n",
        "Most of them are present in pyflux package\n",
        "https://pyflux.readthedocs.io/en/latest/index.html"
      ],
      "metadata": {
        "id": "bCVjqYPfen_2"
      }
    },
    {
      "cell_type": "markdown",
      "source": [
        "# Conclusion"
      ],
      "metadata": {
        "id": "5V--p1pWxPKB"
      }
    },
    {
      "cell_type": "markdown",
      "source": [
        "* DL can be useful in case of very sophisticated TS\n",
        "* Croston Model should be used to analyse time series with intermittend-demand-pattern\n",
        "  * Note: time series with zero actual values can be not-intermittent\n",
        "\n",
        "* Complicated Time series models should bu used rarely in real time series forecasting tasks.  "
      ],
      "metadata": {
        "id": "Y4lqNYNY8WBS"
      }
    },
    {
      "cell_type": "markdown",
      "source": [
        "## Materials\n",
        "* List of TS forecasting packages in Python https://github.com/aromanenko/ATSF/wiki/List-of-packages-for-Time-Series-Forecasting-in-Python\n",
        "* List of TS forecasitng packages in R https://github.com/aromanenko/ATSF/wiki/List-of-Packages-for-Time-Series-Forecatging-in-R\n"
      ],
      "metadata": {
        "id": "BKPdNqh89PRt"
      }
    },
    {
      "cell_type": "markdown",
      "source": [
        "# Self-check questions\n",
        "1. What is an advantage of DL models wrt classic ML models?\n",
        "2. What is intermittent-demand-patterned time series?\n",
        "3. Describe how croston model works\n",
        "4. What is the difference between EGARСH model and ARIMA Model?"
      ],
      "metadata": {
        "id": "J70ei9XCRsFa"
      }
    }
  ]
}